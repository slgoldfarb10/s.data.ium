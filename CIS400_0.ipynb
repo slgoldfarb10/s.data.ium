{
 "cells": [
  {
   "cell_type": "code",
   "execution_count": 10,
   "metadata": {},
   "outputs": [
    {
     "name": "stdout",
     "output_type": "stream",
     "text": [
      "EPL\n",
      "CL\n"
     ]
    },
    {
     "data": {
      "text/plain": [
       "[None, None]"
      ]
     },
     "execution_count": 10,
     "metadata": {},
     "output_type": "execute_result"
    }
   ],
   "source": [
    "import numpy\n",
    "import pandas\n",
    "\n",
    "class League:\n",
    "    # league should be specified with args (\"name_INITIALS\", \"sport\")\n",
    "    # ex. nba = League(\"NBA\", \"basketball\")\n",
    "    def __init__(self, name, sport):\n",
    "        self.sport = sport\n",
    "        self.name = name\n",
    "        self.teams = set()\n",
    "        \n",
    "    def add_teams(self, teams):\n",
    "        [self.teams.add(team) for team in teams]\n",
    "        \n",
    "    \n",
    "class Team:\n",
    "    # team should be specified as how they will be referred to, with city and stadium optional args\n",
    "    # ex. nyg = Team(\"NewYorkGiants\",\"NewYork\"), arsenal = Team(\"Arsenal\",\"London\", \"Emirates Stadium\")\n",
    "    \n",
    "    def __init__(self, name, city = None, stadium = None):\n",
    "        self.leagues = set()\n",
    "        self.name = name\n",
    "        self.city = city\n",
    "        self.stadium = stadium\n",
    "               \n",
    "    def in_leagues(self, leagues):\n",
    "        [self.leagues.add(league) for league in leagues]\n",
    "        \n",
    "    def in_stadium(self, stadium):\n",
    "        self.stadium = stadium\n",
    "        \n",
    "\n",
    "epl = League(\"EPL\", \"soccer\")\n",
    "cl = League(\"CL\", \"soccer\")\n",
    "lfc = Team(\"LiverpoolFC\", \"Liverpool\", \"Anfield\")\n",
    "lfc.in_leagues({prem, cl})\n",
    "\n",
    "[print(x.name) for x in lfc.leagues]"
   ]
  }
 ],
 "metadata": {
  "kernelspec": {
   "display_name": "Python 3",
   "language": "python",
   "name": "python3"
  },
  "language_info": {
   "codemirror_mode": {
    "name": "ipython",
    "version": 3
   },
   "file_extension": ".py",
   "mimetype": "text/x-python",
   "name": "python",
   "nbconvert_exporter": "python",
   "pygments_lexer": "ipython3",
   "version": "3.7.0"
  }
 },
 "nbformat": 4,
 "nbformat_minor": 2
}
